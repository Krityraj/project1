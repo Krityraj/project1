{
 "cells": [
  {
   "cell_type": "code",
   "execution_count": null,
   "id": "74bd1acf",
   "metadata": {},
   "outputs": [],
   "source": [
    "#=======================\n",
    "SVM"
   ]
  },
  {
   "cell_type": "code",
   "execution_count": 1,
   "id": "d7e64b27",
   "metadata": {},
   "outputs": [
    {
     "name": "stderr",
     "output_type": "stream",
     "text": [
      "C:\\Users\\rajkr\\AppData\\Roaming\\Python\\Python310\\site-packages\\pandas\\core\\arrays\\masked.py:60: UserWarning: Pandas requires version '1.3.6' or newer of 'bottleneck' (version '1.3.5' currently installed).\n",
      "  from pandas.core import (\n"
     ]
    }
   ],
   "source": [
    "import pandas as pd\n",
    "import numpy as np\n",
    "import matplotlib.pyplot as plt\n",
    "import seaborn as sns\n"
   ]
  },
  {
   "cell_type": "code",
   "execution_count": 2,
   "id": "e7073ace",
   "metadata": {},
   "outputs": [
    {
     "data": {
      "text/html": [
       "<div>\n",
       "<style scoped>\n",
       "    .dataframe tbody tr th:only-of-type {\n",
       "        vertical-align: middle;\n",
       "    }\n",
       "\n",
       "    .dataframe tbody tr th {\n",
       "        vertical-align: top;\n",
       "    }\n",
       "\n",
       "    .dataframe thead th {\n",
       "        text-align: right;\n",
       "    }\n",
       "</style>\n",
       "<table border=\"1\" class=\"dataframe\">\n",
       "  <thead>\n",
       "    <tr style=\"text-align: right;\">\n",
       "      <th></th>\n",
       "      <th>Unnamed: 0</th>\n",
       "      <th>cap_shape</th>\n",
       "      <th>cap_surface</th>\n",
       "      <th>cap_color</th>\n",
       "      <th>bruises</th>\n",
       "      <th>odor</th>\n",
       "      <th>gill_attachment</th>\n",
       "      <th>gill_spacing</th>\n",
       "      <th>gill_size</th>\n",
       "      <th>gill_color</th>\n",
       "      <th>...</th>\n",
       "      <th>veil_type</th>\n",
       "      <th>veil_color</th>\n",
       "      <th>ring_number</th>\n",
       "      <th>ring_type</th>\n",
       "      <th>spore_print_color</th>\n",
       "      <th>population</th>\n",
       "      <th>habitat</th>\n",
       "      <th>class</th>\n",
       "      <th>stalk_height</th>\n",
       "      <th>cap_diameter</th>\n",
       "    </tr>\n",
       "  </thead>\n",
       "  <tbody>\n",
       "    <tr>\n",
       "      <th>0</th>\n",
       "      <td>1167</td>\n",
       "      <td>sunken</td>\n",
       "      <td>scaly</td>\n",
       "      <td>white</td>\n",
       "      <td>no</td>\n",
       "      <td>anise</td>\n",
       "      <td>descending</td>\n",
       "      <td>distant</td>\n",
       "      <td>broad</td>\n",
       "      <td>pink</td>\n",
       "      <td>...</td>\n",
       "      <td>partial</td>\n",
       "      <td>brown</td>\n",
       "      <td>two</td>\n",
       "      <td>sheathing</td>\n",
       "      <td>chocolate</td>\n",
       "      <td>clustered</td>\n",
       "      <td>waste</td>\n",
       "      <td>poisonous</td>\n",
       "      <td>14.276173</td>\n",
       "      <td>5.054983</td>\n",
       "    </tr>\n",
       "    <tr>\n",
       "      <th>1</th>\n",
       "      <td>1037</td>\n",
       "      <td>sunken</td>\n",
       "      <td>fibrous</td>\n",
       "      <td>red</td>\n",
       "      <td>no</td>\n",
       "      <td>anise</td>\n",
       "      <td>notched</td>\n",
       "      <td>crowded</td>\n",
       "      <td>narrow</td>\n",
       "      <td>chocolate</td>\n",
       "      <td>...</td>\n",
       "      <td>universal</td>\n",
       "      <td>brown</td>\n",
       "      <td>two</td>\n",
       "      <td>sheathing</td>\n",
       "      <td>brown</td>\n",
       "      <td>numerous</td>\n",
       "      <td>waste</td>\n",
       "      <td>edible</td>\n",
       "      <td>3.952715</td>\n",
       "      <td>19.068319</td>\n",
       "    </tr>\n",
       "    <tr>\n",
       "      <th>2</th>\n",
       "      <td>309</td>\n",
       "      <td>flat</td>\n",
       "      <td>grooves</td>\n",
       "      <td>purple</td>\n",
       "      <td>yes</td>\n",
       "      <td>foul</td>\n",
       "      <td>descending</td>\n",
       "      <td>crowded</td>\n",
       "      <td>broad</td>\n",
       "      <td>purple</td>\n",
       "      <td>...</td>\n",
       "      <td>universal</td>\n",
       "      <td>yellow</td>\n",
       "      <td>two</td>\n",
       "      <td>sheathing</td>\n",
       "      <td>purple</td>\n",
       "      <td>abundant</td>\n",
       "      <td>waste</td>\n",
       "      <td>poisonous</td>\n",
       "      <td>9.054265</td>\n",
       "      <td>7.205884</td>\n",
       "    </tr>\n",
       "    <tr>\n",
       "      <th>3</th>\n",
       "      <td>282</td>\n",
       "      <td>bell</td>\n",
       "      <td>scaly</td>\n",
       "      <td>pink</td>\n",
       "      <td>yes</td>\n",
       "      <td>fishy</td>\n",
       "      <td>notched</td>\n",
       "      <td>close</td>\n",
       "      <td>broad</td>\n",
       "      <td>orange</td>\n",
       "      <td>...</td>\n",
       "      <td>partial</td>\n",
       "      <td>yellow</td>\n",
       "      <td>two</td>\n",
       "      <td>cobwebby</td>\n",
       "      <td>green</td>\n",
       "      <td>clustered</td>\n",
       "      <td>grasses</td>\n",
       "      <td>poisonous</td>\n",
       "      <td>5.226499</td>\n",
       "      <td>20.932692</td>\n",
       "    </tr>\n",
       "    <tr>\n",
       "      <th>4</th>\n",
       "      <td>820</td>\n",
       "      <td>flat</td>\n",
       "      <td>smooth</td>\n",
       "      <td>yellow</td>\n",
       "      <td>yes</td>\n",
       "      <td>musty</td>\n",
       "      <td>free</td>\n",
       "      <td>crowded</td>\n",
       "      <td>narrow</td>\n",
       "      <td>orange</td>\n",
       "      <td>...</td>\n",
       "      <td>universal</td>\n",
       "      <td>white</td>\n",
       "      <td>none</td>\n",
       "      <td>none</td>\n",
       "      <td>yellow</td>\n",
       "      <td>clustered</td>\n",
       "      <td>urban</td>\n",
       "      <td>poisonous</td>\n",
       "      <td>14.037532</td>\n",
       "      <td>12.545245</td>\n",
       "    </tr>\n",
       "    <tr>\n",
       "      <th>...</th>\n",
       "      <td>...</td>\n",
       "      <td>...</td>\n",
       "      <td>...</td>\n",
       "      <td>...</td>\n",
       "      <td>...</td>\n",
       "      <td>...</td>\n",
       "      <td>...</td>\n",
       "      <td>...</td>\n",
       "      <td>...</td>\n",
       "      <td>...</td>\n",
       "      <td>...</td>\n",
       "      <td>...</td>\n",
       "      <td>...</td>\n",
       "      <td>...</td>\n",
       "      <td>...</td>\n",
       "      <td>...</td>\n",
       "      <td>...</td>\n",
       "      <td>...</td>\n",
       "      <td>...</td>\n",
       "      <td>...</td>\n",
       "      <td>...</td>\n",
       "    </tr>\n",
       "    <tr>\n",
       "      <th>1995</th>\n",
       "      <td>863</td>\n",
       "      <td>sunken</td>\n",
       "      <td>scaly</td>\n",
       "      <td>brown</td>\n",
       "      <td>yes</td>\n",
       "      <td>foul</td>\n",
       "      <td>attached</td>\n",
       "      <td>crowded</td>\n",
       "      <td>narrow</td>\n",
       "      <td>chocolate</td>\n",
       "      <td>...</td>\n",
       "      <td>partial</td>\n",
       "      <td>orange</td>\n",
       "      <td>one</td>\n",
       "      <td>flaring</td>\n",
       "      <td>purple</td>\n",
       "      <td>abundant</td>\n",
       "      <td>leaves</td>\n",
       "      <td>poisonous</td>\n",
       "      <td>5.877891</td>\n",
       "      <td>17.464145</td>\n",
       "    </tr>\n",
       "    <tr>\n",
       "      <th>1996</th>\n",
       "      <td>1160</td>\n",
       "      <td>sunken</td>\n",
       "      <td>scaly</td>\n",
       "      <td>purple</td>\n",
       "      <td>yes</td>\n",
       "      <td>musty</td>\n",
       "      <td>attached</td>\n",
       "      <td>distant</td>\n",
       "      <td>narrow</td>\n",
       "      <td>red</td>\n",
       "      <td>...</td>\n",
       "      <td>partial</td>\n",
       "      <td>white</td>\n",
       "      <td>one</td>\n",
       "      <td>zone</td>\n",
       "      <td>yellow</td>\n",
       "      <td>numerous</td>\n",
       "      <td>waste</td>\n",
       "      <td>poisonous</td>\n",
       "      <td>6.500840</td>\n",
       "      <td>13.501957</td>\n",
       "    </tr>\n",
       "    <tr>\n",
       "      <th>1997</th>\n",
       "      <td>265</td>\n",
       "      <td>convex</td>\n",
       "      <td>grooves</td>\n",
       "      <td>green</td>\n",
       "      <td>yes</td>\n",
       "      <td>fishy</td>\n",
       "      <td>notched</td>\n",
       "      <td>close</td>\n",
       "      <td>narrow</td>\n",
       "      <td>pink</td>\n",
       "      <td>...</td>\n",
       "      <td>partial</td>\n",
       "      <td>brown</td>\n",
       "      <td>two</td>\n",
       "      <td>evanescent</td>\n",
       "      <td>yellow</td>\n",
       "      <td>abundant</td>\n",
       "      <td>woods</td>\n",
       "      <td>poisonous</td>\n",
       "      <td>13.558064</td>\n",
       "      <td>11.270020</td>\n",
       "    </tr>\n",
       "    <tr>\n",
       "      <th>1998</th>\n",
       "      <td>411</td>\n",
       "      <td>bell</td>\n",
       "      <td>smooth</td>\n",
       "      <td>white</td>\n",
       "      <td>no</td>\n",
       "      <td>pungent</td>\n",
       "      <td>free</td>\n",
       "      <td>close</td>\n",
       "      <td>narrow</td>\n",
       "      <td>orange</td>\n",
       "      <td>...</td>\n",
       "      <td>universal</td>\n",
       "      <td>yellow</td>\n",
       "      <td>one</td>\n",
       "      <td>cobwebby</td>\n",
       "      <td>brown</td>\n",
       "      <td>solitary</td>\n",
       "      <td>woods</td>\n",
       "      <td>poisonous</td>\n",
       "      <td>11.092703</td>\n",
       "      <td>8.423199</td>\n",
       "    </tr>\n",
       "    <tr>\n",
       "      <th>1999</th>\n",
       "      <td>1073</td>\n",
       "      <td>convex</td>\n",
       "      <td>scaly</td>\n",
       "      <td>yellow</td>\n",
       "      <td>yes</td>\n",
       "      <td>pungent</td>\n",
       "      <td>descending</td>\n",
       "      <td>close</td>\n",
       "      <td>narrow</td>\n",
       "      <td>purple</td>\n",
       "      <td>...</td>\n",
       "      <td>partial</td>\n",
       "      <td>white</td>\n",
       "      <td>two</td>\n",
       "      <td>large</td>\n",
       "      <td>white</td>\n",
       "      <td>numerous</td>\n",
       "      <td>urban</td>\n",
       "      <td>poisonous</td>\n",
       "      <td>13.066414</td>\n",
       "      <td>21.056642</td>\n",
       "    </tr>\n",
       "  </tbody>\n",
       "</table>\n",
       "<p>2000 rows × 26 columns</p>\n",
       "</div>"
      ],
      "text/plain": [
       "      Unnamed: 0 cap_shape cap_surface cap_color bruises     odor  \\\n",
       "0           1167    sunken       scaly     white      no    anise   \n",
       "1           1037    sunken     fibrous       red      no    anise   \n",
       "2            309      flat     grooves    purple     yes     foul   \n",
       "3            282      bell       scaly      pink     yes    fishy   \n",
       "4            820      flat      smooth    yellow     yes    musty   \n",
       "...          ...       ...         ...       ...     ...      ...   \n",
       "1995         863    sunken       scaly     brown     yes     foul   \n",
       "1996        1160    sunken       scaly    purple     yes    musty   \n",
       "1997         265    convex     grooves     green     yes    fishy   \n",
       "1998         411      bell      smooth     white      no  pungent   \n",
       "1999        1073    convex       scaly    yellow     yes  pungent   \n",
       "\n",
       "     gill_attachment gill_spacing gill_size gill_color  ...  veil_type  \\\n",
       "0         descending      distant     broad       pink  ...    partial   \n",
       "1            notched      crowded    narrow  chocolate  ...  universal   \n",
       "2         descending      crowded     broad     purple  ...  universal   \n",
       "3            notched        close     broad     orange  ...    partial   \n",
       "4               free      crowded    narrow     orange  ...  universal   \n",
       "...              ...          ...       ...        ...  ...        ...   \n",
       "1995        attached      crowded    narrow  chocolate  ...    partial   \n",
       "1996        attached      distant    narrow        red  ...    partial   \n",
       "1997         notched        close    narrow       pink  ...    partial   \n",
       "1998            free        close    narrow     orange  ...  universal   \n",
       "1999      descending        close    narrow     purple  ...    partial   \n",
       "\n",
       "     veil_color ring_number   ring_type spore_print_color population  habitat  \\\n",
       "0         brown         two   sheathing         chocolate  clustered    waste   \n",
       "1         brown         two   sheathing             brown   numerous    waste   \n",
       "2        yellow         two   sheathing            purple   abundant    waste   \n",
       "3        yellow         two    cobwebby             green  clustered  grasses   \n",
       "4         white        none        none            yellow  clustered    urban   \n",
       "...         ...         ...         ...               ...        ...      ...   \n",
       "1995     orange         one     flaring            purple   abundant   leaves   \n",
       "1996      white         one        zone            yellow   numerous    waste   \n",
       "1997      brown         two  evanescent            yellow   abundant    woods   \n",
       "1998     yellow         one    cobwebby             brown   solitary    woods   \n",
       "1999      white         two       large             white   numerous    urban   \n",
       "\n",
       "          class stalk_height cap_diameter  \n",
       "0     poisonous    14.276173     5.054983  \n",
       "1        edible     3.952715    19.068319  \n",
       "2     poisonous     9.054265     7.205884  \n",
       "3     poisonous     5.226499    20.932692  \n",
       "4     poisonous    14.037532    12.545245  \n",
       "...         ...          ...          ...  \n",
       "1995  poisonous     5.877891    17.464145  \n",
       "1996  poisonous     6.500840    13.501957  \n",
       "1997  poisonous    13.558064    11.270020  \n",
       "1998  poisonous    11.092703     8.423199  \n",
       "1999  poisonous    13.066414    21.056642  \n",
       "\n",
       "[2000 rows x 26 columns]"
      ]
     },
     "execution_count": 2,
     "metadata": {},
     "output_type": "execute_result"
    }
   ],
   "source": [
    "df=pd.read_csv(\"C:/Users/rajkr/OneDrive/Documents/svm.csv\")\n",
    "df\n"
   ]
  },
  {
   "cell_type": "code",
   "execution_count": 3,
   "id": "4f0996b9",
   "metadata": {},
   "outputs": [
    {
     "data": {
      "text/html": [
       "<div>\n",
       "<style scoped>\n",
       "    .dataframe tbody tr th:only-of-type {\n",
       "        vertical-align: middle;\n",
       "    }\n",
       "\n",
       "    .dataframe tbody tr th {\n",
       "        vertical-align: top;\n",
       "    }\n",
       "\n",
       "    .dataframe thead th {\n",
       "        text-align: right;\n",
       "    }\n",
       "</style>\n",
       "<table border=\"1\" class=\"dataframe\">\n",
       "  <thead>\n",
       "    <tr style=\"text-align: right;\">\n",
       "      <th></th>\n",
       "      <th>Unnamed: 0</th>\n",
       "      <th>cap_shape</th>\n",
       "      <th>cap_surface</th>\n",
       "      <th>cap_color</th>\n",
       "      <th>bruises</th>\n",
       "      <th>odor</th>\n",
       "      <th>gill_attachment</th>\n",
       "      <th>gill_spacing</th>\n",
       "      <th>gill_size</th>\n",
       "      <th>gill_color</th>\n",
       "      <th>...</th>\n",
       "      <th>veil_type</th>\n",
       "      <th>veil_color</th>\n",
       "      <th>ring_number</th>\n",
       "      <th>ring_type</th>\n",
       "      <th>spore_print_color</th>\n",
       "      <th>population</th>\n",
       "      <th>habitat</th>\n",
       "      <th>class</th>\n",
       "      <th>stalk_height</th>\n",
       "      <th>cap_diameter</th>\n",
       "    </tr>\n",
       "  </thead>\n",
       "  <tbody>\n",
       "    <tr>\n",
       "      <th>0</th>\n",
       "      <td>1167</td>\n",
       "      <td>sunken</td>\n",
       "      <td>scaly</td>\n",
       "      <td>white</td>\n",
       "      <td>no</td>\n",
       "      <td>anise</td>\n",
       "      <td>descending</td>\n",
       "      <td>distant</td>\n",
       "      <td>broad</td>\n",
       "      <td>pink</td>\n",
       "      <td>...</td>\n",
       "      <td>partial</td>\n",
       "      <td>brown</td>\n",
       "      <td>two</td>\n",
       "      <td>sheathing</td>\n",
       "      <td>chocolate</td>\n",
       "      <td>clustered</td>\n",
       "      <td>waste</td>\n",
       "      <td>poisonous</td>\n",
       "      <td>14.276173</td>\n",
       "      <td>5.054983</td>\n",
       "    </tr>\n",
       "    <tr>\n",
       "      <th>1</th>\n",
       "      <td>1037</td>\n",
       "      <td>sunken</td>\n",
       "      <td>fibrous</td>\n",
       "      <td>red</td>\n",
       "      <td>no</td>\n",
       "      <td>anise</td>\n",
       "      <td>notched</td>\n",
       "      <td>crowded</td>\n",
       "      <td>narrow</td>\n",
       "      <td>chocolate</td>\n",
       "      <td>...</td>\n",
       "      <td>universal</td>\n",
       "      <td>brown</td>\n",
       "      <td>two</td>\n",
       "      <td>sheathing</td>\n",
       "      <td>brown</td>\n",
       "      <td>numerous</td>\n",
       "      <td>waste</td>\n",
       "      <td>edible</td>\n",
       "      <td>3.952715</td>\n",
       "      <td>19.068319</td>\n",
       "    </tr>\n",
       "    <tr>\n",
       "      <th>2</th>\n",
       "      <td>309</td>\n",
       "      <td>flat</td>\n",
       "      <td>grooves</td>\n",
       "      <td>purple</td>\n",
       "      <td>yes</td>\n",
       "      <td>foul</td>\n",
       "      <td>descending</td>\n",
       "      <td>crowded</td>\n",
       "      <td>broad</td>\n",
       "      <td>purple</td>\n",
       "      <td>...</td>\n",
       "      <td>universal</td>\n",
       "      <td>yellow</td>\n",
       "      <td>two</td>\n",
       "      <td>sheathing</td>\n",
       "      <td>purple</td>\n",
       "      <td>abundant</td>\n",
       "      <td>waste</td>\n",
       "      <td>poisonous</td>\n",
       "      <td>9.054265</td>\n",
       "      <td>7.205884</td>\n",
       "    </tr>\n",
       "    <tr>\n",
       "      <th>3</th>\n",
       "      <td>282</td>\n",
       "      <td>bell</td>\n",
       "      <td>scaly</td>\n",
       "      <td>pink</td>\n",
       "      <td>yes</td>\n",
       "      <td>fishy</td>\n",
       "      <td>notched</td>\n",
       "      <td>close</td>\n",
       "      <td>broad</td>\n",
       "      <td>orange</td>\n",
       "      <td>...</td>\n",
       "      <td>partial</td>\n",
       "      <td>yellow</td>\n",
       "      <td>two</td>\n",
       "      <td>cobwebby</td>\n",
       "      <td>green</td>\n",
       "      <td>clustered</td>\n",
       "      <td>grasses</td>\n",
       "      <td>poisonous</td>\n",
       "      <td>5.226499</td>\n",
       "      <td>20.932692</td>\n",
       "    </tr>\n",
       "    <tr>\n",
       "      <th>4</th>\n",
       "      <td>820</td>\n",
       "      <td>flat</td>\n",
       "      <td>smooth</td>\n",
       "      <td>yellow</td>\n",
       "      <td>yes</td>\n",
       "      <td>musty</td>\n",
       "      <td>free</td>\n",
       "      <td>crowded</td>\n",
       "      <td>narrow</td>\n",
       "      <td>orange</td>\n",
       "      <td>...</td>\n",
       "      <td>universal</td>\n",
       "      <td>white</td>\n",
       "      <td>none</td>\n",
       "      <td>none</td>\n",
       "      <td>yellow</td>\n",
       "      <td>clustered</td>\n",
       "      <td>urban</td>\n",
       "      <td>poisonous</td>\n",
       "      <td>14.037532</td>\n",
       "      <td>12.545245</td>\n",
       "    </tr>\n",
       "  </tbody>\n",
       "</table>\n",
       "<p>5 rows × 26 columns</p>\n",
       "</div>"
      ],
      "text/plain": [
       "   Unnamed: 0 cap_shape cap_surface cap_color bruises   odor gill_attachment  \\\n",
       "0        1167    sunken       scaly     white      no  anise      descending   \n",
       "1        1037    sunken     fibrous       red      no  anise         notched   \n",
       "2         309      flat     grooves    purple     yes   foul      descending   \n",
       "3         282      bell       scaly      pink     yes  fishy         notched   \n",
       "4         820      flat      smooth    yellow     yes  musty            free   \n",
       "\n",
       "  gill_spacing gill_size gill_color  ...  veil_type veil_color ring_number  \\\n",
       "0      distant     broad       pink  ...    partial      brown         two   \n",
       "1      crowded    narrow  chocolate  ...  universal      brown         two   \n",
       "2      crowded     broad     purple  ...  universal     yellow         two   \n",
       "3        close     broad     orange  ...    partial     yellow         two   \n",
       "4      crowded    narrow     orange  ...  universal      white        none   \n",
       "\n",
       "   ring_type spore_print_color population  habitat      class stalk_height  \\\n",
       "0  sheathing         chocolate  clustered    waste  poisonous    14.276173   \n",
       "1  sheathing             brown   numerous    waste     edible     3.952715   \n",
       "2  sheathing            purple   abundant    waste  poisonous     9.054265   \n",
       "3   cobwebby             green  clustered  grasses  poisonous     5.226499   \n",
       "4       none            yellow  clustered    urban  poisonous    14.037532   \n",
       "\n",
       "  cap_diameter  \n",
       "0     5.054983  \n",
       "1    19.068319  \n",
       "2     7.205884  \n",
       "3    20.932692  \n",
       "4    12.545245  \n",
       "\n",
       "[5 rows x 26 columns]"
      ]
     },
     "execution_count": 3,
     "metadata": {},
     "output_type": "execute_result"
    }
   ],
   "source": [
    "df.head()"
   ]
  },
  {
   "cell_type": "code",
   "execution_count": 4,
   "id": "b64f9212",
   "metadata": {},
   "outputs": [
    {
     "data": {
      "text/plain": [
       "Index(['Unnamed: 0', 'cap_shape', 'cap_surface', 'cap_color', 'bruises',\n",
       "       'odor', 'gill_attachment', 'gill_spacing', 'gill_size', 'gill_color',\n",
       "       'stalk_shape', 'stalk_root', 'stalk_surface_above_ring',\n",
       "       'stalk_surface_below_ring', 'stalk_color_above_ring',\n",
       "       'stalk_color_below_ring', 'veil_type', 'veil_color', 'ring_number',\n",
       "       'ring_type', 'spore_print_color', 'population', 'habitat', 'class',\n",
       "       'stalk_height', 'cap_diameter'],\n",
       "      dtype='object')"
      ]
     },
     "execution_count": 4,
     "metadata": {},
     "output_type": "execute_result"
    }
   ],
   "source": [
    "df.columns"
   ]
  },
  {
   "cell_type": "code",
   "execution_count": 6,
   "id": "ef67687a",
   "metadata": {},
   "outputs": [
    {
     "name": "stdout",
     "output_type": "stream",
     "text": [
      "<class 'pandas.core.frame.DataFrame'>\n",
      "RangeIndex: 2000 entries, 0 to 1999\n",
      "Data columns (total 26 columns):\n",
      " #   Column                    Non-Null Count  Dtype  \n",
      "---  ------                    --------------  -----  \n",
      " 0   Unnamed: 0                2000 non-null   int64  \n",
      " 1   cap_shape                 2000 non-null   object \n",
      " 2   cap_surface               2000 non-null   object \n",
      " 3   cap_color                 2000 non-null   object \n",
      " 4   bruises                   2000 non-null   object \n",
      " 5   odor                      2000 non-null   object \n",
      " 6   gill_attachment           2000 non-null   object \n",
      " 7   gill_spacing              2000 non-null   object \n",
      " 8   gill_size                 2000 non-null   object \n",
      " 9   gill_color                2000 non-null   object \n",
      " 10  stalk_shape               2000 non-null   object \n",
      " 11  stalk_root                2000 non-null   object \n",
      " 12  stalk_surface_above_ring  2000 non-null   object \n",
      " 13  stalk_surface_below_ring  2000 non-null   object \n",
      " 14  stalk_color_above_ring    2000 non-null   object \n",
      " 15  stalk_color_below_ring    2000 non-null   object \n",
      " 16  veil_type                 2000 non-null   object \n",
      " 17  veil_color                2000 non-null   object \n",
      " 18  ring_number               2000 non-null   object \n",
      " 19  ring_type                 2000 non-null   object \n",
      " 20  spore_print_color         2000 non-null   object \n",
      " 21  population                2000 non-null   object \n",
      " 22  habitat                   2000 non-null   object \n",
      " 23  class                     2000 non-null   object \n",
      " 24  stalk_height              2000 non-null   float64\n",
      " 25  cap_diameter              2000 non-null   float64\n",
      "dtypes: float64(2), int64(1), object(23)\n",
      "memory usage: 406.4+ KB\n"
     ]
    }
   ],
   "source": [
    "df.info()"
   ]
  },
  {
   "cell_type": "code",
   "execution_count": 7,
   "id": "781c503c",
   "metadata": {},
   "outputs": [
    {
     "name": "stdout",
     "output_type": "stream",
     "text": [
      "<class 'pandas.core.frame.DataFrame'>\n",
      "RangeIndex: 2000 entries, 0 to 1999\n",
      "Data columns (total 25 columns):\n",
      " #   Column                    Non-Null Count  Dtype  \n",
      "---  ------                    --------------  -----  \n",
      " 0   cap_shape                 2000 non-null   object \n",
      " 1   cap_surface               2000 non-null   object \n",
      " 2   cap_color                 2000 non-null   object \n",
      " 3   bruises                   2000 non-null   object \n",
      " 4   odor                      2000 non-null   object \n",
      " 5   gill_attachment           2000 non-null   object \n",
      " 6   gill_spacing              2000 non-null   object \n",
      " 7   gill_size                 2000 non-null   object \n",
      " 8   gill_color                2000 non-null   object \n",
      " 9   stalk_shape               2000 non-null   object \n",
      " 10  stalk_root                2000 non-null   object \n",
      " 11  stalk_surface_above_ring  2000 non-null   object \n",
      " 12  stalk_surface_below_ring  2000 non-null   object \n",
      " 13  stalk_color_above_ring    2000 non-null   object \n",
      " 14  stalk_color_below_ring    2000 non-null   object \n",
      " 15  veil_type                 2000 non-null   object \n",
      " 16  veil_color                2000 non-null   object \n",
      " 17  ring_number               2000 non-null   object \n",
      " 18  ring_type                 2000 non-null   object \n",
      " 19  spore_print_color         2000 non-null   object \n",
      " 20  population                2000 non-null   object \n",
      " 21  habitat                   2000 non-null   object \n",
      " 22  class                     2000 non-null   object \n",
      " 23  stalk_height              2000 non-null   float64\n",
      " 24  cap_diameter              2000 non-null   float64\n",
      "dtypes: float64(2), object(23)\n",
      "memory usage: 390.8+ KB\n",
      "<class 'pandas.core.frame.DataFrame'>\n",
      "RangeIndex: 2000 entries, 0 to 1999\n",
      "Data columns (total 24 columns):\n",
      " #   Column                    Non-Null Count  Dtype  \n",
      "---  ------                    --------------  -----  \n",
      " 0   cap_shape                 2000 non-null   object \n",
      " 1   cap_surface               2000 non-null   object \n",
      " 2   cap_color                 2000 non-null   object \n",
      " 3   bruises                   2000 non-null   object \n",
      " 4   odor                      2000 non-null   object \n",
      " 5   gill_attachment           2000 non-null   object \n",
      " 6   gill_spacing              2000 non-null   object \n",
      " 7   gill_size                 2000 non-null   object \n",
      " 8   gill_color                2000 non-null   object \n",
      " 9   stalk_shape               2000 non-null   object \n",
      " 10  stalk_root                2000 non-null   object \n",
      " 11  stalk_surface_above_ring  2000 non-null   object \n",
      " 12  stalk_surface_below_ring  2000 non-null   object \n",
      " 13  stalk_color_above_ring    2000 non-null   object \n",
      " 14  stalk_color_below_ring    2000 non-null   object \n",
      " 15  veil_type                 2000 non-null   object \n",
      " 16  veil_color                2000 non-null   object \n",
      " 17  ring_number               2000 non-null   object \n",
      " 18  ring_type                 2000 non-null   object \n",
      " 19  spore_print_color         2000 non-null   object \n",
      " 20  population                2000 non-null   object \n",
      " 21  habitat                   2000 non-null   object \n",
      " 22  class                     2000 non-null   object \n",
      " 23  cap_diameter              2000 non-null   float64\n",
      "dtypes: float64(1), object(23)\n",
      "memory usage: 375.1+ KB\n",
      "<class 'pandas.core.frame.DataFrame'>\n",
      "RangeIndex: 2000 entries, 0 to 1999\n",
      "Data columns (total 23 columns):\n",
      " #   Column                    Non-Null Count  Dtype \n",
      "---  ------                    --------------  ----- \n",
      " 0   cap_shape                 2000 non-null   object\n",
      " 1   cap_surface               2000 non-null   object\n",
      " 2   cap_color                 2000 non-null   object\n",
      " 3   bruises                   2000 non-null   object\n",
      " 4   odor                      2000 non-null   object\n",
      " 5   gill_attachment           2000 non-null   object\n",
      " 6   gill_spacing              2000 non-null   object\n",
      " 7   gill_size                 2000 non-null   object\n",
      " 8   gill_color                2000 non-null   object\n",
      " 9   stalk_shape               2000 non-null   object\n",
      " 10  stalk_root                2000 non-null   object\n",
      " 11  stalk_surface_above_ring  2000 non-null   object\n",
      " 12  stalk_surface_below_ring  2000 non-null   object\n",
      " 13  stalk_color_above_ring    2000 non-null   object\n",
      " 14  stalk_color_below_ring    2000 non-null   object\n",
      " 15  veil_type                 2000 non-null   object\n",
      " 16  veil_color                2000 non-null   object\n",
      " 17  ring_number               2000 non-null   object\n",
      " 18  ring_type                 2000 non-null   object\n",
      " 19  spore_print_color         2000 non-null   object\n",
      " 20  population                2000 non-null   object\n",
      " 21  habitat                   2000 non-null   object\n",
      " 22  class                     2000 non-null   object\n",
      "dtypes: object(23)\n",
      "memory usage: 359.5+ KB\n"
     ]
    }
   ],
   "source": [
    "df.drop(df.columns[0],axis=1,inplace=True)\n",
    "df.info()\n",
    "df.drop(df.columns[23],axis=1,inplace=True)\n",
    "df.info()\n",
    "df.drop(df.columns[23],axis=1,inplace=True)\n",
    "df.info()\n",
    "\n",
    "\n"
   ]
  },
  {
   "cell_type": "code",
   "execution_count": 8,
   "id": "f5f43783",
   "metadata": {},
   "outputs": [
    {
     "data": {
      "text/plain": [
       "<Axes: >"
      ]
     },
     "execution_count": 8,
     "metadata": {},
     "output_type": "execute_result"
    },
    {
     "data": {
      "image/png": "[encoded data removed]",
      "text/plain": [
       "<Figure size 640x480 with 1 Axes>"
      ]
     },
     "metadata": {},
     "output_type": "display_data"
    }
   ],
   "source": [
    "#visualisation\n",
    "df['class'].hist()\n"
   ]
  },
  {
   "cell_type": "code",
   "execution_count": 9,
   "id": "cb142d04",
   "metadata": {},
   "outputs": [
    {
     "data": {
      "text/plain": [
       "class\n",
       "poisonous    1400\n",
       "edible        600\n",
       "Name: count, dtype: int64"
      ]
     },
     "execution_count": 9,
     "metadata": {},
     "output_type": "execute_result"
    }
   ],
   "source": [
    "t=df['class'].value_counts()\n",
    "t\n"
   ]
  },
  {
   "cell_type": "code",
   "execution_count": 10,
   "id": "3727e6e0",
   "metadata": {},
   "outputs": [],
   "source": [
    "from sklearn.preprocessing import LabelEncoder\n",
    "LE= LabelEncoder()\n",
    "for i in range(0,22):\n",
    "    df.iloc[:,i]= LE.fit_transform(df.iloc[:,i])\n"
   ]
  },
  {
   "cell_type": "code",
   "execution_count": 11,
   "id": "45ba9759",
   "metadata": {},
   "outputs": [
    {
     "data": {
      "text/html": [
       "<div>\n",
       "<style scoped>\n",
       "    .dataframe tbody tr th:only-of-type {\n",
       "        vertical-align: middle;\n",
       "    }\n",
       "\n",
       "    .dataframe tbody tr th {\n",
       "        vertical-align: top;\n",
       "    }\n",
       "\n",
       "    .dataframe thead th {\n",
       "        text-align: right;\n",
       "    }\n",
       "</style>\n",
       "<table border=\"1\" class=\"dataframe\">\n",
       "  <thead>\n",
       "    <tr style=\"text-align: right;\">\n",
       "      <th></th>\n",
       "      <th>cap_shape</th>\n",
       "      <th>cap_surface</th>\n",
       "      <th>cap_color</th>\n",
       "      <th>bruises</th>\n",
       "      <th>odor</th>\n",
       "      <th>gill_attachment</th>\n",
       "      <th>gill_spacing</th>\n",
       "      <th>gill_size</th>\n",
       "      <th>gill_color</th>\n",
       "      <th>stalk_shape</th>\n",
       "      <th>...</th>\n",
       "      <th>stalk_color_above_ring</th>\n",
       "      <th>stalk_color_below_ring</th>\n",
       "      <th>veil_type</th>\n",
       "      <th>veil_color</th>\n",
       "      <th>ring_number</th>\n",
       "      <th>ring_type</th>\n",
       "      <th>spore_print_color</th>\n",
       "      <th>population</th>\n",
       "      <th>habitat</th>\n",
       "      <th>class</th>\n",
       "    </tr>\n",
       "  </thead>\n",
       "  <tbody>\n",
       "    <tr>\n",
       "      <th>0</th>\n",
       "      <td>4</td>\n",
       "      <td>2</td>\n",
       "      <td>7</td>\n",
       "      <td>0</td>\n",
       "      <td>1</td>\n",
       "      <td>1</td>\n",
       "      <td>2</td>\n",
       "      <td>0</td>\n",
       "      <td>7</td>\n",
       "      <td>1</td>\n",
       "      <td>...</td>\n",
       "      <td>3</td>\n",
       "      <td>8</td>\n",
       "      <td>0</td>\n",
       "      <td>0</td>\n",
       "      <td>2</td>\n",
       "      <td>6</td>\n",
       "      <td>3</td>\n",
       "      <td>1</td>\n",
       "      <td>5</td>\n",
       "      <td>poisonous</td>\n",
       "    </tr>\n",
       "    <tr>\n",
       "      <th>1</th>\n",
       "      <td>4</td>\n",
       "      <td>0</td>\n",
       "      <td>6</td>\n",
       "      <td>0</td>\n",
       "      <td>1</td>\n",
       "      <td>3</td>\n",
       "      <td>1</td>\n",
       "      <td>1</td>\n",
       "      <td>3</td>\n",
       "      <td>0</td>\n",
       "      <td>...</td>\n",
       "      <td>2</td>\n",
       "      <td>0</td>\n",
       "      <td>1</td>\n",
       "      <td>0</td>\n",
       "      <td>2</td>\n",
       "      <td>6</td>\n",
       "      <td>1</td>\n",
       "      <td>2</td>\n",
       "      <td>5</td>\n",
       "      <td>edible</td>\n",
       "    </tr>\n",
       "    <tr>\n",
       "      <th>2</th>\n",
       "      <td>3</td>\n",
       "      <td>1</td>\n",
       "      <td>5</td>\n",
       "      <td>1</td>\n",
       "      <td>4</td>\n",
       "      <td>1</td>\n",
       "      <td>1</td>\n",
       "      <td>0</td>\n",
       "      <td>8</td>\n",
       "      <td>1</td>\n",
       "      <td>...</td>\n",
       "      <td>8</td>\n",
       "      <td>3</td>\n",
       "      <td>1</td>\n",
       "      <td>3</td>\n",
       "      <td>2</td>\n",
       "      <td>6</td>\n",
       "      <td>6</td>\n",
       "      <td>0</td>\n",
       "      <td>5</td>\n",
       "      <td>poisonous</td>\n",
       "    </tr>\n",
       "    <tr>\n",
       "      <th>3</th>\n",
       "      <td>0</td>\n",
       "      <td>2</td>\n",
       "      <td>4</td>\n",
       "      <td>1</td>\n",
       "      <td>3</td>\n",
       "      <td>3</td>\n",
       "      <td>0</td>\n",
       "      <td>0</td>\n",
       "      <td>6</td>\n",
       "      <td>0</td>\n",
       "      <td>...</td>\n",
       "      <td>8</td>\n",
       "      <td>5</td>\n",
       "      <td>0</td>\n",
       "      <td>3</td>\n",
       "      <td>2</td>\n",
       "      <td>0</td>\n",
       "      <td>4</td>\n",
       "      <td>1</td>\n",
       "      <td>0</td>\n",
       "      <td>poisonous</td>\n",
       "    </tr>\n",
       "    <tr>\n",
       "      <th>4</th>\n",
       "      <td>3</td>\n",
       "      <td>3</td>\n",
       "      <td>8</td>\n",
       "      <td>1</td>\n",
       "      <td>5</td>\n",
       "      <td>2</td>\n",
       "      <td>1</td>\n",
       "      <td>1</td>\n",
       "      <td>6</td>\n",
       "      <td>0</td>\n",
       "      <td>...</td>\n",
       "      <td>3</td>\n",
       "      <td>7</td>\n",
       "      <td>1</td>\n",
       "      <td>2</td>\n",
       "      <td>0</td>\n",
       "      <td>4</td>\n",
       "      <td>8</td>\n",
       "      <td>1</td>\n",
       "      <td>4</td>\n",
       "      <td>poisonous</td>\n",
       "    </tr>\n",
       "  </tbody>\n",
       "</table>\n",
       "<p>5 rows × 23 columns</p>\n",
       "</div>"
      ],
      "text/plain": [
       "  cap_shape cap_surface cap_color bruises odor gill_attachment gill_spacing  \\\n",
       "0         4           2         7       0    1               1            2   \n",
       "1         4           0         6       0    1               3            1   \n",
       "2         3           1         5       1    4               1            1   \n",
       "3         0           2         4       1    3               3            0   \n",
       "4         3           3         8       1    5               2            1   \n",
       "\n",
       "  gill_size gill_color stalk_shape  ... stalk_color_above_ring  \\\n",
       "0         0          7           1  ...                      3   \n",
       "1         1          3           0  ...                      2   \n",
       "2         0          8           1  ...                      8   \n",
       "3         0          6           0  ...                      8   \n",
       "4         1          6           0  ...                      3   \n",
       "\n",
       "  stalk_color_below_ring veil_type veil_color ring_number ring_type  \\\n",
       "0                      8         0          0           2         6   \n",
       "1                      0         1          0           2         6   \n",
       "2                      3         1          3           2         6   \n",
       "3                      5         0          3           2         0   \n",
       "4                      7         1          2           0         4   \n",
       "\n",
       "  spore_print_color population habitat      class  \n",
       "0                 3          1       5  poisonous  \n",
       "1                 1          2       5     edible  \n",
       "2                 6          0       5  poisonous  \n",
       "3                 4          1       0  poisonous  \n",
       "4                 8          1       4  poisonous  \n",
       "\n",
       "[5 rows x 23 columns]"
      ]
     },
     "execution_count": 11,
     "metadata": {},
     "output_type": "execute_result"
    }
   ],
   "source": [
    "df.head()"
   ]
  },
  {
   "cell_type": "code",
   "execution_count": 12,
   "id": "7cff48e0",
   "metadata": {},
   "outputs": [
    {
     "data": {
      "text/plain": [
       "0       1\n",
       "1       0\n",
       "2       1\n",
       "3       1\n",
       "4       1\n",
       "       ..\n",
       "1995    1\n",
       "1996    1\n",
       "1997    1\n",
       "1998    1\n",
       "1999    1\n",
       "Name: class, Length: 2000, dtype: int32"
      ]
     },
     "execution_count": 12,
     "metadata": {},
     "output_type": "execute_result"
    }
   ],
   "source": [
    "from sklearn.preprocessing import LabelEncoder\n",
    "LE= LabelEncoder()\n",
    "df['class']=LE.fit_transform(df['class'])\n",
    "Y=df['class']\n",
    "Y\n"
   ]
  },
  {
   "cell_type": "code",
   "execution_count": 13,
   "id": "3644487c",
   "metadata": {},
   "outputs": [
    {
     "name": "stdout",
     "output_type": "stream",
     "text": [
      "<class 'pandas.core.frame.DataFrame'>\n",
      "RangeIndex: 2000 entries, 0 to 1999\n",
      "Data columns (total 23 columns):\n",
      " #   Column                    Non-Null Count  Dtype \n",
      "---  ------                    --------------  ----- \n",
      " 0   cap_shape                 2000 non-null   object\n",
      " 1   cap_surface               2000 non-null   object\n",
      " 2   cap_color                 2000 non-null   object\n",
      " 3   bruises                   2000 non-null   object\n",
      " 4   odor                      2000 non-null   object\n",
      " 5   gill_attachment           2000 non-null   object\n",
      " 6   gill_spacing              2000 non-null   object\n",
      " 7   gill_size                 2000 non-null   object\n",
      " 8   gill_color                2000 non-null   object\n",
      " 9   stalk_shape               2000 non-null   object\n",
      " 10  stalk_root                2000 non-null   object\n",
      " 11  stalk_surface_above_ring  2000 non-null   object\n",
      " 12  stalk_surface_below_ring  2000 non-null   object\n",
      " 13  stalk_color_above_ring    2000 non-null   object\n",
      " 14  stalk_color_below_ring    2000 non-null   object\n",
      " 15  veil_type                 2000 non-null   object\n",
      " 16  veil_color                2000 non-null   object\n",
      " 17  ring_number               2000 non-null   object\n",
      " 18  ring_type                 2000 non-null   object\n",
      " 19  spore_print_color         2000 non-null   object\n",
      " 20  population                2000 non-null   object\n",
      " 21  habitat                   2000 non-null   object\n",
      " 22  class                     2000 non-null   int32 \n",
      "dtypes: int32(1), object(22)\n",
      "memory usage: 351.7+ KB\n"
     ]
    }
   ],
   "source": [
    "df.info()"
   ]
  },
  {
   "cell_type": "code",
   "execution_count": 14,
   "id": "c38ad635",
   "metadata": {},
   "outputs": [
    {
     "data": {
      "text/plain": [
       "<Axes: >"
      ]
     },
     "execution_count": 14,
     "metadata": {},
     "output_type": "execute_result"
    },
    {
     "data": {
      "image/png": "[encoded data removed]",
      "text/plain": [
       "<Figure size 640x480 with 1 Axes>"
      ]
     },
     "metadata": {},
     "output_type": "display_data"
    }
   ],
   "source": [
    "#visualisation\n",
    "df['class'].hist()\n"
   ]
  },
  {
   "cell_type": "code",
   "execution_count": 15,
   "id": "b841cc13",
   "metadata": {},
   "outputs": [
    {
     "data": {
      "text/plain": [
       "class\n",
       "1    1400\n",
       "0     600\n",
       "Name: count, dtype: int64"
      ]
     },
     "execution_count": 15,
     "metadata": {},
     "output_type": "execute_result"
    }
   ],
   "source": [
    "t=df['class'].value_counts()\n",
    "t\n"
   ]
  },
  {
   "cell_type": "code",
   "execution_count": 16,
   "id": "58fe27ff",
   "metadata": {},
   "outputs": [
    {
     "data": {
      "text/plain": [
       "<Axes: >"
      ]
     },
     "execution_count": 16,
     "metadata": {},
     "output_type": "execute_result"
    },
    {
     "data": {
      "image/png": "[encoded data removed]",
      "text/plain": [
       "<Figure size 640x480 with 1 Axes>"
      ]
     },
     "metadata": {},
     "output_type": "display_data"
    }
   ],
   "source": [
    "df['veil_color'].hist()\n"
   ]
  },
  {
   "cell_type": "code",
   "execution_count": 17,
   "id": "04e1052b",
   "metadata": {},
   "outputs": [
    {
     "data": {
      "text/plain": [
       "<Axes: >"
      ]
     },
     "execution_count": 17,
     "metadata": {},
     "output_type": "execute_result"
    },
    {
     "data": {
      "image/png": "[encoded data removed]",
      "text/plain": [
       "<Figure size 640x480 with 1 Axes>"
      ]
     },
     "metadata": {},
     "output_type": "display_data"
    }
   ],
   "source": [
    "df['cap_color'].hist()\n"
   ]
  },
  {
   "cell_type": "code",
   "execution_count": 18,
   "id": "7135f0f3",
   "metadata": {},
   "outputs": [
    {
     "data": {
      "text/plain": [
       "<Axes: >"
      ]
     },
     "execution_count": 18,
     "metadata": {},
     "output_type": "execute_result"
    },
    {
     "data": {
      "image/png": "[encoded data removed]",
      "text/plain": [
       "<Figure size 640x480 with 1 Axes>"
      ]
     },
     "metadata": {},
     "output_type": "display_data"
    }
   ],
   "source": [
    "df['gill_color'].hist()\n"
   ]
  },
  {
   "cell_type": "code",
   "execution_count": 19,
   "id": "66bd9b8a",
   "metadata": {},
   "outputs": [
    {
     "data": {
      "text/plain": [
       "<Axes: >"
      ]
     },
     "execution_count": 19,
     "metadata": {},
     "output_type": "execute_result"
    },
    {
     "data": {
      "image/png": "[encoded data removed]",
      "text/plain": [
       "<Figure size 640x480 with 1 Axes>"
      ]
     },
     "metadata": {},
     "output_type": "display_data"
    }
   ],
   "source": [
    "\n",
    "df['odor'].hist()\n"
   ]
  },
  {
   "cell_type": "code",
   "execution_count": 20,
   "id": "3cfb1f76",
   "metadata": {},
   "outputs": [
    {
     "data": {
      "text/plain": [
       "<Axes: >"
      ]
     },
     "execution_count": 20,
     "metadata": {},
     "output_type": "execute_result"
    },
    {
     "data": {
      "image/png": "[encoded data removed]",
      "text/plain": [
       "<Figure size 640x480 with 1 Axes>"
      ]
     },
     "metadata": {},
     "output_type": "display_data"
    }
   ],
   "source": [
    "df['ring_type'].hist()\n"
   ]
  },
  {
   "cell_type": "code",
   "execution_count": 21,
   "id": "d33fc904",
   "metadata": {},
   "outputs": [
    {
     "data": {
      "text/plain": [
       "<Axes: >"
      ]
     },
     "execution_count": 21,
     "metadata": {},
     "output_type": "execute_result"
    },
    {
     "data": {
      "image/png": "[encoded data removed]",
      "text/plain": [
       "<Figure size 640x480 with 1 Axes>"
      ]
     },
     "metadata": {},
     "output_type": "display_data"
    }
   ],
   "source": [
    "df['habitat'].hist()\n"
   ]
  },
  {
   "cell_type": "code",
   "execution_count": null,
   "id": "01c5b22b",
   "metadata": {},
   "outputs": [],
   "source": [
    "#bar plot\n"
   ]
  },
  {
   "cell_type": "code",
   "execution_count": 22,
   "id": "1aae64e9",
   "metadata": {},
   "outputs": [
    {
     "data": {
      "text/plain": [
       "<Axes: xlabel='veil_color'>"
      ]
     },
     "execution_count": 22,
     "metadata": {},
     "output_type": "execute_result"
    },
    {
     "data": {
      "image/png": "[encoded data removed]",
      "text/plain": [
       "<Figure size 640x480 with 1 Axes>"
      ]
     },
     "metadata": {},
     "output_type": "display_data"
    }
   ],
   "source": [
    "t1=df['veil_color'].value_counts()\n",
    "t1\n",
    "t1.plot(kind='bar')\n"
   ]
  },
  {
   "cell_type": "code",
   "execution_count": 23,
   "id": "c6b50df8",
   "metadata": {},
   "outputs": [
    {
     "data": {
      "text/plain": [
       "<Axes: xlabel='cap_color'>"
      ]
     },
     "execution_count": 23,
     "metadata": {},
     "output_type": "execute_result"
    },
    {
     "data": {
      "image/png": "[encoded data removed]",
      "text/plain": [
       "<Figure size 640x480 with 1 Axes>"
      ]
     },
     "metadata": {},
     "output_type": "display_data"
    }
   ],
   "source": [
    "t2=df['cap_color'].value_counts()\n",
    "t2\n",
    "t2.plot(kind='bar')\n"
   ]
  },
  {
   "cell_type": "code",
   "execution_count": 25,
   "id": "bca385b9",
   "metadata": {},
   "outputs": [
    {
     "data": {
      "text/plain": [
       "<Axes: xlabel='gill_color'>"
      ]
     },
     "execution_count": 25,
     "metadata": {},
     "output_type": "execute_result"
    },
    {
     "data": {
      "image/png": "[encoded data removed]",
      "text/plain": [
       "<Figure size 640x480 with 1 Axes>"
      ]
     },
     "metadata": {},
     "output_type": "display_data"
    }
   ],
   "source": [
    "t3=df['gill_color'].value_counts()\n",
    "t3\n",
    "t3.plot(kind='bar')"
   ]
  },
  {
   "cell_type": "code",
   "execution_count": 26,
   "id": "17c707a7",
   "metadata": {},
   "outputs": [
    {
     "data": {
      "text/plain": [
       "<Axes: xlabel='habitat'>"
      ]
     },
     "execution_count": 26,
     "metadata": {},
     "output_type": "execute_result"
    },
    {
     "data": {
      "image/png": "[encoded data removed]",
      "text/plain": [
       "<Figure size 640x480 with 1 Axes>"
      ]
     },
     "metadata": {},
     "output_type": "display_data"
    }
   ],
   "source": [
    "t6=df['habitat'].value_counts()\n",
    "t6\n",
    "t6.plot(kind='bar')\n"
   ]
  },
  {
   "cell_type": "code",
   "execution_count": null,
   "id": "4f319afc",
   "metadata": {},
   "outputs": [],
   "source": [
    "#scatter plot"
   ]
  },
  {
   "cell_type": "code",
   "execution_count": 27,
   "id": "a9e98fbe",
   "metadata": {},
   "outputs": [
    {
     "data": {
      "image/png": "[encoded data removed]",
      "text/plain": [
       "<Figure size 640x480 with 1 Axes>"
      ]
     },
     "metadata": {},
     "output_type": "display_data"
    }
   ],
   "source": [
    "plt.scatter(x=df['veil_color'],y=df['class'],color='red')\n",
    "plt.xlabel('veil_color')\n",
    "plt.ylabel('class')\n",
    "plt.show()\n"
   ]
  },
  {
   "cell_type": "code",
   "execution_count": 28,
   "id": "ca465c88",
   "metadata": {},
   "outputs": [
    {
     "data": {
      "image/png": "[encoded data removed]",
      "text/plain": [
       "<Figure size 640x480 with 1 Axes>"
      ]
     },
     "metadata": {},
     "output_type": "display_data"
    }
   ],
   "source": [
    "plt.scatter(x=df['habitat'],y=df['class'],color='red')\n",
    "plt.xlabel('habitat')\n",
    "plt.ylabel('class')\n",
    "plt.show()\n"
   ]
  },
  {
   "cell_type": "code",
   "execution_count": null,
   "id": "306234f9",
   "metadata": {},
   "outputs": [],
   "source": [
    "#boxplot\n"
   ]
  },
  {
   "cell_type": "code",
   "execution_count": 29,
   "id": "56325ee3",
   "metadata": {},
   "outputs": [
    {
     "data": {
      "text/plain": [
       "<Axes: ylabel='class'>"
      ]
     },
     "execution_count": 29,
     "metadata": {},
     "output_type": "execute_result"
    },
    {
     "data": {
      "image/png": "[encoded data removed]",
      "text/plain": [
       "<Figure size 640x480 with 1 Axes>"
      ]
     },
     "metadata": {},
     "output_type": "display_data"
    }
   ],
   "source": [
    "sns.stripplot(y='class',data=df)\n"
   ]
  },
  {
   "cell_type": "code",
   "execution_count": 30,
   "id": "5a21da85",
   "metadata": {},
   "outputs": [
    {
     "data": {
      "text/plain": [
       "<Axes: ylabel='habitat'>"
      ]
     },
     "execution_count": 30,
     "metadata": {},
     "output_type": "execute_result"
    },
    {
     "data": {
      "image/png": "[encoded data removed]",
      "text/plain": [
       "<Figure size 640x480 with 1 Axes>"
      ]
     },
     "metadata": {},
     "output_type": "display_data"
    }
   ],
   "source": [
    "sns.stripplot(y='habitat',data=df)\n"
   ]
  },
  {
   "cell_type": "code",
   "execution_count": 31,
   "id": "f12cbe37",
   "metadata": {},
   "outputs": [
    {
     "data": {
      "text/plain": [
       "<Axes: ylabel='gill_color'>"
      ]
     },
     "execution_count": 31,
     "metadata": {},
     "output_type": "execute_result"
    },
    {
     "data": {
      "image/png": "[encoded data removed]",
      "text/plain": [
       "<Figure size 640x480 with 1 Axes>"
      ]
     },
     "metadata": {},
     "output_type": "display_data"
    }
   ],
   "source": [
    "sns.stripplot(y='gill_color',data=df)\n"
   ]
  },
  {
   "cell_type": "code",
   "execution_count": 32,
   "id": "96c46d2b",
   "metadata": {},
   "outputs": [
    {
     "data": {
      "text/plain": [
       "0       1\n",
       "1       0\n",
       "2       1\n",
       "3       1\n",
       "4       1\n",
       "       ..\n",
       "1995    1\n",
       "1996    1\n",
       "1997    1\n",
       "1998    1\n",
       "1999    1\n",
       "Name: class, Length: 2000, dtype: int32"
      ]
     },
     "execution_count": 32,
     "metadata": {},
     "output_type": "execute_result"
    }
   ],
   "source": [
    "#split\n",
    "X=df.iloc[:,0:22]\n",
    "X\n",
    "Y=df['class']\n",
    "Y\n"
   ]
  },
  {
   "cell_type": "code",
   "execution_count": 33,
   "id": "0fee6b34",
   "metadata": {},
   "outputs": [
    {
     "data": {
      "text/plain": [
       "500"
      ]
     },
     "execution_count": 33,
     "metadata": {},
     "output_type": "execute_result"
    }
   ],
   "source": [
    "#data partition\n",
    "from sklearn.model_selection._split import train_test_split\n",
    "X_train,X_test,y_train,y_test=train_test_split(X,Y,test_size=0.25,random_state=10)\n",
    "len(X_train)\n",
    "len(X_test)\n"
   ]
  },
  {
   "cell_type": "code",
   "execution_count": 34,
   "id": "606c80a1",
   "metadata": {},
   "outputs": [],
   "source": [
    "#model fitting\n",
    "from sklearn.svm import SVC\n",
    "clf=SVC(kernel='linear',C=1.0)\n",
    "clf.fit(X_train,y_train)\n",
    "y_pred_train=clf.predict(X_train)\n",
    "y_pred_test=clf.predict(X_test)\n",
    "\n"
   ]
  },
  {
   "cell_type": "code",
   "execution_count": 35,
   "id": "959bdd25",
   "metadata": {},
   "outputs": [
    {
     "name": "stdout",
     "output_type": "stream",
     "text": [
      "trainingAccuracy: 0.71\n",
      "testAccuracy: 0.71\n"
     ]
    }
   ],
   "source": [
    "from sklearn.metrics import accuracy_score\n",
    "print('trainingAccuracy:',accuracy_score(y_train,y_pred_train).round(2))\n",
    "print('testAccuracy:',accuracy_score(y_train,y_pred_train).round(2))\n"
   ]
  },
  {
   "cell_type": "code",
   "execution_count": 36,
   "id": "0614d1ba",
   "metadata": {},
   "outputs": [],
   "source": [
    "from sklearn.svm import SVC\n",
    "clf=SVC(kernel='poly',degree=2)\n",
    "clf.fit(X_train,y_train)\n",
    "y_pred_train=clf.predict(X_train)\n",
    "y_pred_test=clf.predict(X_test)\n"
   ]
  },
  {
   "cell_type": "code",
   "execution_count": 37,
   "id": "a372d854",
   "metadata": {},
   "outputs": [
    {
     "name": "stdout",
     "output_type": "stream",
     "text": [
      "trainingAccuracy: 0.71\n",
      "testAccuracy: 0.71\n"
     ]
    }
   ],
   "source": [
    "from sklearn.metrics import accuracy_score\n",
    "print('trainingAccuracy:',accuracy_score(y_train,y_pred_train).round(2))\n",
    "print('testAccuracy:',accuracy_score(y_train,y_pred_train).round(2))\n"
   ]
  },
  {
   "cell_type": "code",
   "execution_count": 38,
   "id": "cc7947bd",
   "metadata": {},
   "outputs": [],
   "source": [
    "from sklearn.svm import SVC\n",
    "clf=SVC(kernel='rbf',gamma='scale')\n",
    "clf.fit(X_train,y_train)\n",
    "y_pred_train=clf.predict(X_train)\n",
    "y_pred_test=clf.predict(X_test)\n"
   ]
  },
  {
   "cell_type": "code",
   "execution_count": 39,
   "id": "33f8e55e",
   "metadata": {},
   "outputs": [
    {
     "name": "stdout",
     "output_type": "stream",
     "text": [
      "trainingAccuracy: 0.73\n",
      "testAccuracy: 0.73\n"
     ]
    }
   ],
   "source": [
    "from sklearn.metrics import accuracy_score\n",
    "print('trainingAccuracy:',accuracy_score(y_train,y_pred_train).round(2))\n",
    "print('testAccuracy:',accuracy_score(y_train,y_pred_train).round(2))\n"
   ]
  },
  {
   "cell_type": "code",
   "execution_count": 40,
   "id": "ce7b8c9c",
   "metadata": {},
   "outputs": [
    {
     "data": {
      "text/plain": [
       "array([[  8, 154],\n",
       "       [  0, 338]], dtype=int64)"
      ]
     },
     "execution_count": 40,
     "metadata": {},
     "output_type": "execute_result"
    }
   ],
   "source": [
    "from sklearn.metrics import confusion_matrix\n",
    "y_pred =clf.predict(X_test)\n",
    "clf=confusion_matrix(y_test,y_pred)\n",
    "clf\n"
   ]
  },
  {
   "cell_type": "code",
   "execution_count": 41,
   "id": "53568a0c",
   "metadata": {},
   "outputs": [
    {
     "data": {
      "text/plain": [
       "Text(58.222222222222214, 0.5, 'truth')"
      ]
     },
     "execution_count": 41,
     "metadata": {},
     "output_type": "execute_result"
    },
    {
     "data": {
      "image/png": "[encoded data removed]",
      "text/plain": [
       "<Figure size 700x500 with 2 Axes>"
      ]
     },
     "metadata": {},
     "output_type": "display_data"
    }
   ],
   "source": [
    "#plot\n",
    "plt.figure(figsize=(7,5))\n",
    "sns.heatmap(clf,annot=True)\n",
    "plt.xlabel('prediction')\n",
    "plt.ylabel('truth')\n"
   ]
  },
  {
   "cell_type": "code",
   "execution_count": 42,
   "id": "dce22420",
   "metadata": {},
   "outputs": [
    {
     "name": "stdout",
     "output_type": "stream",
     "text": [
      "              precision    recall  f1-score   support\n",
      "\n",
      "           0       1.00      0.05      0.09       162\n",
      "           1       0.69      1.00      0.81       338\n",
      "\n",
      "    accuracy                           0.69       500\n",
      "   macro avg       0.84      0.52      0.45       500\n",
      "weighted avg       0.79      0.69      0.58       500\n",
      "\n"
     ]
    }
   ],
   "source": [
    "#classification\n",
    "from sklearn.metrics import classification_report\n",
    "print(classification_report(y_test,y_pred))\n"
   ]
  },
  {
   "cell_type": "code",
   "execution_count": null,
   "id": "b3b18c3d",
   "metadata": {},
   "outputs": [],
   "source": []
  },
  {
   "cell_type": "code",
   "execution_count": null,
   "id": "17103145",
   "metadata": {},
   "outputs": [],
   "source": []
  },
  {
   "cell_type": "code",
   "execution_count": null,
   "id": "93d17a31",
   "metadata": {},
   "outputs": [],
   "source": []
  },
  {
   "cell_type": "code",
   "execution_count": null,
   "id": "6a39eeeb",
   "metadata": {},
   "outputs": [],
   "source": []
  },
  {
   "cell_type": "code",
   "execution_count": null,
   "id": "254a63d3",
   "metadata": {},
   "outputs": [],
   "source": []
  },
  {
   "cell_type": "code",
   "execution_count": null,
   "id": "be92af5a",
   "metadata": {},
   "outputs": [],
   "source": []
  },
  {
   "cell_type": "code",
   "execution_count": null,
   "id": "25c524fe",
   "metadata": {},
   "outputs": [],
   "source": []
  },
  {
   "cell_type": "code",
   "execution_count": null,
   "id": "2f09f94a",
   "metadata": {},
   "outputs": [],
   "source": []
  },
  {
   "cell_type": "code",
   "execution_count": null,
   "id": "43ed8ed9",
   "metadata": {},
   "outputs": [],
   "source": []
  },
  {
   "cell_type": "code",
   "execution_count": null,
   "id": "8206bbf6",
   "metadata": {},
   "outputs": [],
   "source": []
  },
  {
   "cell_type": "code",
   "execution_count": null,
   "id": "871930f4",
   "metadata": {},
   "outputs": [],
   "source": []
  },
  {
   "cell_type": "code",
   "execution_count": null,
   "id": "f55cd7d4",
   "metadata": {},
   "outputs": [],
   "source": []
  },
  {
   "cell_type": "code",
   "execution_count": null,
   "id": "5423d119",
   "metadata": {},
   "outputs": [],
   "source": []
  },
  {
   "cell_type": "code",
   "execution_count": null,
   "id": "f033a68f",
   "metadata": {},
   "outputs": [],
   "source": []
  },
  {
   "cell_type": "code",
   "execution_count": null,
   "id": "00d73da2",
   "metadata": {},
   "outputs": [],
   "source": []
  },
  {
   "cell_type": "code",
   "execution_count": null,
   "id": "0cb6f18b",
   "metadata": {},
   "outputs": [],
   "source": []
  },
  {
   "cell_type": "code",
   "execution_count": null,
   "id": "fee70e47",
   "metadata": {},
   "outputs": [],
   "source": []
  },
  {
   "cell_type": "code",
   "execution_count": null,
   "id": "ceed563c",
   "metadata": {},
   "outputs": [],
   "source": []
  },
  {
   "cell_type": "code",
   "execution_count": null,
   "id": "25cd2edb",
   "metadata": {},
   "outputs": [],
   "source": []
  },
  {
   "cell_type": "code",
   "execution_count": null,
   "id": "f30c5ddd",
   "metadata": {},
   "outputs": [],
   "source": []
  },
  {
   "cell_type": "code",
   "execution_count": null,
   "id": "eda241ec",
   "metadata": {},
   "outputs": [],
   "source": []
  },
  {
   "cell_type": "code",
   "execution_count": null,
   "id": "fca560a8",
   "metadata": {},
   "outputs": [],
   "source": []
  },
  {
   "cell_type": "code",
   "execution_count": null,
   "id": "229789af",
   "metadata": {},
   "outputs": [],
   "source": []
  },
  {
   "cell_type": "code",
   "execution_count": null,
   "id": "41630b05",
   "metadata": {},
   "outputs": [],
   "source": []
  },
  {
   "cell_type": "code",
   "execution_count": null,
   "id": "108d3b81",
   "metadata": {},
   "outputs": [],
   "source": []
  },
  {
   "cell_type": "code",
   "execution_count": null,
   "id": "8e8a7d98",
   "metadata": {},
   "outputs": [],
   "source": []
  },
  {
   "cell_type": "code",
   "execution_count": null,
   "id": "b9c7ce41",
   "metadata": {},
   "outputs": [],
   "source": []
  },
  {
   "cell_type": "code",
   "execution_count": null,
   "id": "73b77745",
   "metadata": {},
   "outputs": [],
   "source": []
  },
  {
   "cell_type": "code",
   "execution_count": null,
   "id": "64fdfa4c",
   "metadata": {},
   "outputs": [],
   "source": []
  },
  {
   "cell_type": "code",
   "execution_count": null,
   "id": "1895d01f",
   "metadata": {},
   "outputs": [],
   "source": []
  },
  {
   "cell_type": "code",
   "execution_count": null,
   "id": "d9ec3a5f",
   "metadata": {},
   "outputs": [],
   "source": []
  },
  {
   "cell_type": "code",
   "execution_count": null,
   "id": "614bd2af",
   "metadata": {},
   "outputs": [],
   "source": []
  }
 ],
 "metadata": {
  "kernelspec": {
   "display_name": "Python 3 (ipykernel)",
   "language": "python",
   "name": "python3"
  },
  "language_info": {
   "codemirror_mode": {
    "name": "ipython",
    "version": 3
   },
   "file_extension": ".py",
   "mimetype": "text/x-python",
   "name": "python",
   "nbconvert_exporter": "python",
   "pygments_lexer": "ipython3",
   "version": "3.10.9"
  }
 },
 "nbformat": 4,
 "nbformat_minor": 5
}
